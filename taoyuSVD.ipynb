{
 "cells": [
  {
   "cell_type": "code",
   "execution_count": 12,
   "metadata": {},
   "outputs": [
    {
     "name": "stdout",
     "output_type": "stream",
     "text": [
      "<surprise.dataset.DatasetAutoFolds object at 0x7f3e076189e8>\n",
      "Evaluating RMSE, MAE of algorithm SVD on 5 split(s).\n",
      "\n",
      "                  Fold 1  Fold 2  Fold 3  Fold 4  Fold 5  Mean    Std     \n",
      "RMSE (testset)    0.9350  0.9415  0.9321  0.9352  0.9366  0.9361  0.0031  \n",
      "MAE (testset)     0.7371  0.7438  0.7324  0.7353  0.7380  0.7373  0.0038  \n",
      "Fit time          3.77    3.77    3.77    3.76    3.76    3.77    0.00    \n",
      "Test time         0.22    0.22    0.22    0.22    0.17    0.21    0.02    \n"
     ]
    },
    {
     "data": {
      "text/plain": [
       "{'test_rmse': array([0.9349731 , 0.94147727, 0.9321452 , 0.93520119, 0.93663156]),\n",
       " 'test_mae': array([0.73712442, 0.74378479, 0.73236738, 0.73525506, 0.7380389 ]),\n",
       " 'fit_time': (3.766411304473877,\n",
       "  3.770960569381714,\n",
       "  3.772651433944702,\n",
       "  3.7603275775909424,\n",
       "  3.7621047496795654),\n",
       " 'test_time': (0.21808981895446777,\n",
       "  0.21632838249206543,\n",
       "  0.22214031219482422,\n",
       "  0.21732068061828613,\n",
       "  0.16545438766479492)}"
      ]
     },
     "execution_count": 12,
     "metadata": {},
     "output_type": "execute_result"
    }
   ],
   "source": [
    "from surprise import SVD\n",
    "from surprise import Reader\n",
    "from surprise import Dataset\n",
    "from surprise.model_selection import cross_validate\n",
    "\n",
    "# Load the movielens-100k dataset (download it if needed).\n",
    "# data = Dataset.load_builtin('ml-100k')\n",
    "# print(data)\n",
    "reader = Reader(line_format='user item rating',sep='\\t\\t',rating_scale=(-10,10),skip_lines=1)\n",
    "data2 = Dataset.load_from_file(\"/home/handing/数据集/dataset2/jester_dataset_2/jester_ratings.dat\", reader=reader)\n",
    "print(data2)\n",
    "\n",
    "# Use the famous SVD algorithm.\n",
    "algo = SVD()\n",
    "\n",
    "# Run 5-fold cross-validation and print results.\n",
    "cross_validate(algo, data, measures=['RMSE', 'MAE'], cv=5, verbose=True)"
   ]
  }
 ],
 "metadata": {
  "kernelspec": {
   "display_name": "Python 3",
   "language": "python",
   "name": "python3"
  },
  "language_info": {
   "codemirror_mode": {
    "name": "ipython",
    "version": 3
   },
   "file_extension": ".py",
   "mimetype": "text/x-python",
   "name": "python",
   "nbconvert_exporter": "python",
   "pygments_lexer": "ipython3",
   "version": "3.7.0"
  }
 },
 "nbformat": 4,
 "nbformat_minor": 2
}
